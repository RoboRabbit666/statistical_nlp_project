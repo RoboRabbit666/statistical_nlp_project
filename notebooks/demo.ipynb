{
 "cells": [
  {
   "cell_type": "markdown",
   "metadata": {},
   "source": [
    "# Advanced NLP Project Demo\n",
    "\n",
    "This notebook demonstrates the key features of the Advanced NLP Project, including:\n",
    "- RAG-based fact checking\n",
    "- Multi-modal keyword extraction\n",
    "- Advanced sentence ranking\n"
   ]
  },
  {
   "cell_type": "code",
   "execution_count": null,
   "metadata": {},
   "outputs": [],
   "source": [
    "# Install the package if not already installed\n",
    "# !pip install -e ..\n",
    "\n",
    "import sys\n",
    "import os\n",
    "sys.path.append('../src')\n",
    "\n",
    "from nlp_project import RAGSystem, KeywordExtractor, SentenceRanker\n",
    "from nlp_project.utils import Config, get_logger\n",
    "\n",
    "# Setup logging\n",
    "logger = get_logger(__name__, level=\"INFO\")\n",
    "print(\"Imports successful!\")"
   ]
  },
  {
   "cell_type": "markdown",
   "metadata": {},
   "source": [
    "## 1. Configuration Setup\n",
    "\n",
    "First, let's set up the configuration. Make sure to set your Anthropic API key."
   ]
  },
  {
   "cell_type": "code",
   "execution_count": null,
   "metadata": {},
   "outputs": [],
   "source": [
    "# Set up configuration\n",
    "# Option 1: From environment (recommended)\n",
    "os.environ['ANTHROPIC_API_KEY'] = 'your-api-key-here'  # Replace with your actual key\n",
    "config = Config.from_env()\n",
    "\n",
    "# Option 2: Create custom config\n",
    "# config = Config(\n",
    "#     anthropic_api_key=\"your-api-key\",\n",
    "#     batch_size=64,\n",
    "#     device=\"cpu\"\n",
    "# )\n",
    "\n",
    "print(f\"Configuration loaded:\")\n",
    "print(f\"- Model: {config.sentence_model}\")\n",
    "print(f\"- Device: {config.device}\")\n",
    "print(f\"- Batch size: {config.batch_size}\")"
   ]
  },
  {
   "cell_type": "markdown",
   "metadata": {},
   "source": [
    "## 2. Keyword Extraction Demo\n",
    "\n",
    "Let's demonstrate the multi-modal keyword extraction system."
   ]
  },
  {
   "cell_type": "code",
   "execution_count": null,
   "metadata": {},
   "outputs": [],
   "source": [
    "# Initialize keyword extractor\n",
    "keyword_extractor = KeywordExtractor(config=config)\n",
    "\n",
    "# Test text\n",
    "test_text = \"Machine learning and artificial intelligence are transforming healthcare by enabling predictive analytics and personalized treatment plans.\"\n",
    "\n",
    "print(\"Text:\", test_text)\n",
    "print(\"\\n\" + \"=\"*50)\n",
    "\n",
    "# Extract keywords using different methods\n",
    "methods = [\"ner\", \"llm\", \"combined\"]\n",
    "\n",
    "for method in methods:\n",
    "    try:\n",
    "        keywords = keyword_extractor.extract_keywords(test_text, method=method)\n",
    "        print(f\"\\n{method.upper()} Keywords: {keywords}\")\n",
    "    except Exception as e:\n",
    "        print(f\"\\n{method.upper()} Keywords: Error - {e}\")\n",
    "\n",
    "# Get keywords with scores\n",
    "try:\n",
    "    keyword_scores = keyword_extractor.extract_keywords_with_scores(test_text)\n",
    "    print(\"\\nKeywords with Scores:\")\n",
    "    for keyword, data in keyword_scores.items():\n",
    "        print(f\"  {keyword}: {data['confidence']:.2f} ({data.get('entity_type', 'UNKNOWN')})\")\n",
    "except Exception as e:\n",
    "    print(f\"\\nKeywords with scores: Error - {e}\")"
   ]
  },
  {
   "cell_type": "markdown",
   "metadata": {},
   "source": [
    "## 3. Sentence Ranking Demo\n",
    "\n",
    "Demonstrate advanced sentence similarity and ranking."
   ]
  },
  {
   "cell_type": "code",
   "execution_count": null,
   "metadata": {},
   "outputs": [],
   "source": [
    "# Initialize sentence ranker\n",
    "try:\n",
    "    sentence_ranker = SentenceRanker(config=config)\n",
    "    \n",
    "    # Test query and candidate sentences\n",
    "    query = \"What are the benefits of renewable energy?\"\n",
    "    \n",
    "    candidates = [\n",
    "        \"Solar panels convert sunlight directly into electricity using photovoltaic cells.\",\n",
    "        \"Wind turbines generate clean electricity by harnessing wind power.\",\n",
    "        \"Coal burning releases harmful pollutants into the atmosphere.\",\n",
    "        \"Renewable energy sources reduce greenhouse gas emissions significantly.\",\n",
    "        \"Nuclear power plants require uranium fuel for energy generation.\",\n",
    "        \"Hydroelectric dams use flowing water to generate sustainable electricity.\",\n",
    "        \"Fossil fuels are finite resources that will eventually be depleted.\"\n",
    "    ]\n",
    "    \n",
    "    print(\"Query:\", query)\n",
    "    print(\"\\nCandidate Sentences:\")\n",
    "    for i, sentence in enumerate(candidates, 1):\n",
    "        print(f\"{i}. {sentence}\")\n",
    "    \n",
    "    # Rank sentences by relevance\n",
    "    ranked_sentences, similarities = sentence_ranker.rank_sentences_by_relevance(\n",
    "        query, candidates, return_similarities=True\n",
    "    )\n",
    "    \n",
    "    print(\"\\n\" + \"=\"*50)\n",
    "    print(\"RANKED SENTENCES (by relevance):\")\n",
    "    print(\"=\"*50)\n",
    "    \n",
    "    for i, (sentence, sim) in enumerate(zip(ranked_sentences, similarities), 1):\n",
    "        print(f\"{i}. ({sim:.3f}) {sentence[:80]}...\")\n",
    "    \n",
    "    # Get top-3 most similar\n",
    "    top_similar = sentence_ranker.get_top_k_similar(query, candidates, k=3)\n",
    "    \n",
    "    print(\"\\nTOP-3 MOST SIMILAR:\")\n",
    "    for i, (sentence, sim) in enumerate(top_similar, 1):\n",
    "        print(f\"{i}. ({sim:.3f}) {sentence}\")\n",
    "        \n",
    "except Exception as e:\n",
    "    print(f\"Sentence ranking error: {e}\")\n",
    "    print(\"Note: This requires the sentence-transformers model to be downloaded.\")"
   ]
  },
  {
   "cell_type": "markdown",
   "metadata": {},
   "source": [
    "## 4. RAG System Demo\n",
    "\n",
    "Demonstrate the complete RAG-based fact-checking system."
   ]
  },
  {
   "cell_type": "code",
   "execution_count": null,
   "metadata": {},
   "outputs": [],
   "source": [
    "# Initialize RAG system\n",
    "try:\n",
    "    rag_system = RAGSystem(config=config)\n",
    "    \n",
    "    # Test claims\n",
    "    test_claims = [\n",
    "        \"The Earth is the third planet from the Sun.\",\n",
    "        \"Water boils at 100 degrees Celsius at sea level.\",\n",
    "        \"The Great Wall of China is visible from space with the naked eye.\"\n",
    "    ]\n",
    "    \n",
    "    print(\"RAG SYSTEM FACT-CHECKING DEMO\")\n",
    "    print(\"=\"*50)\n",
    "    \n",
    "    for i, claim in enumerate(test_claims, 1):\n",
    "        print(f\"\\nClaim {i}: {claim}\")\n",
    "        print(\"-\" * 40)\n",
    "        \n",
    "        try:\n",
    "            # Verify the claim\n",
    "            result = rag_system.verify_claim(\n",
    "                claim,\n",
    "                return_evidence=True,\n",
    "                verbose=False\n",
    "            )\n",
    "            \n",
    "            print(f\"Verdict: {result['verdict']}\")\n",
    "            print(f\"Confidence: {result['confidence']:.2f}\")\n",
    "            print(f\"Keywords: {result.get('keywords', [])}\")\n",
    "            \n",
    "            if 'reasoning' in result:\n",
    "                reasoning = result['reasoning'][:200] + \"...\" if len(result['reasoning']) > 200 else result['reasoning']\n",
    "                print(f\"Reasoning: {reasoning}\")\n",
    "            \n",
    "            if 'evidence' in result and result['evidence']:\n",
    "                print(f\"Evidence (first 2):\")\n",
    "                for j, evidence in enumerate(result['evidence'][:2], 1):\n",
    "                    evidence_short = evidence[:100] + \"...\" if len(evidence) > 100 else evidence\n",
    "                    print(f\"  {j}. {evidence_short}\")\n",
    "                    \n",
    "        except Exception as e:\n",
    "            print(f\"Error verifying claim: {e}\")\n",
    "            print(\"Note: This requires a valid Anthropic API key and internet connection.\")\n",
    "\n",
    "except Exception as e:\n",
    "    print(f\"RAG system initialization error: {e}\")\n",
    "    print(\"Note: Make sure all dependencies are installed and API key is set.\")"
   ]
  },
  {
   "cell_type": "markdown",
   "metadata": {},
   "source": [
    "## 5. System Information\n",
    "\n",
    "Get information about the current system configuration."
   ]
  },
  {
   "cell_type": "code",
   "execution_count": null,
   "metadata": {},
   "outputs": [],
   "source": [
    "try:\n",
    "    # Get system information\n",
    "    system_info = rag_system.get_system_info()\n",
    "    \n",
    "    print(\"SYSTEM INFORMATION\")\n",
    "    print(\"=\"*30)\n",
    "    \n",
    "    print(\"\\nModel Information:\")\n",
    "    for key, value in system_info['model_info'].items():\n",
    "        print(f\"  {key}: {value}\")\n",
    "    \n",
    "    print(\"\\nConfiguration:\")\n",
    "    for key, value in system_info['config'].items():\n",
    "        print(f\"  {key}: {value}\")\n",
    "    \n",
    "    print(\"\\nComponents:\")\n",
    "    for key, value in system_info['components'].items():\n",
    "        print(f\"  {key}: {value}\")\n",
    "        \n",
    "except Exception as e:\n",
    "    print(f\"Could not get system info: {e}\")"
   ]
  },
  {
   "cell_type": "markdown",
   "metadata": {},
   "source": [
    "## 6. Performance Testing (Optional)\n",
    "\n",
    "Test the system with sample data."
   ]
  },
  {
   "cell_type": "code",
   "execution_count": null,
   "metadata": {},
   "outputs": [],
   "source": [
    "# Sample test data for evaluation\n",
    "sample_test_data = [\n",
    "    {\"claim\": \"Water freezes at 0 degrees Celsius.\", \"label\": \"SUPPORTS\"},\n",
    "    {\"claim\": \"The sun rises in the west.\", \"label\": \"REFUTES\"},\n",
    "    {\"claim\": \"Quantum computers use quantum bits.\", \"label\": \"SUPPORTS\"}\n",
    "]\n",
    "\n",
    "try:\n",
    "    if 'rag_system' in locals():\n",
    "        print(\"PERFORMANCE EVALUATION\")\n",
    "        print(\"=\"*30)\n",
    "        \n",
    "        # Run evaluation on sample data\n",
    "        metrics = rag_system.evaluate_performance(sample_test_data)\n",
    "        \n",
    "        print(f\"Test Data Size: {metrics['total']}\")\n",
    "        print(f\"Correct Predictions: {metrics['correct']}\")\n",
    "        print(f\"Accuracy: {metrics['accuracy']:.3f}\")\n",
    "        \n",
    "        print(\"\\nVerdict Distribution:\")\n",
    "        for verdict, count in metrics['verdict_distribution'].items():\n",
    "            print(f\"  {verdict}: {count}\")\n",
    "    else:\n",
    "        print(\"RAG system not initialized. Skipping performance evaluation.\")\n",
    "        \n",
    "except Exception as e:\n",
    "    print(f\"Performance evaluation error: {e}\")"
   ]
  },
  {
   "cell_type": "markdown",
   "metadata": {},
   "source": [
    "## Conclusion\n",
    "\n",
    "This demo showcased the key capabilities of the Advanced NLP Project:\n",
    "\n",
    "1. **Multi-modal keyword extraction** combining NER and LLM approaches\n",
    "2. **Advanced sentence ranking** using fine-tuned transformers\n",
    "3. **Complete RAG pipeline** for fact-checking and claim verification\n",
    "4. **Professional architecture** with proper error handling and logging\n",
    "\n",
    "The system is designed for production use with comprehensive configuration management and extensible components.\n",
    "\n",
    "### Next Steps\n",
    "\n",
    "- Set up your Anthropic API key for full functionality\n",
    "- Explore the evaluation scripts in `scripts/`\n",
    "- Run the test suite with `pytest`\n",
    "- Check out the API documentation in `docs/API.md`"
   ]
  }
 ],
 "metadata": {
  "kernelspec": {
   "display_name": "Python 3",
   "language": "python",
   "name": "python3"
  },
  "language_info": {
   "codemirror_mode": {
    "name": "ipython",
    "version": 3
   },
   "file_extension": ".py",
   "mimetype": "text/x-python",
   "name": "python",
   "nbconvert_exporter": "python",
   "pygments_lexer": "ipython3",
   "version": "3.8.0"
  }
 },
 "nbformat": 4,
 "nbformat_minor": 4
}